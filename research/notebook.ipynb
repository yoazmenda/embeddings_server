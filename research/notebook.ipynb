{
 "cells": [
  {
   "cell_type": "markdown",
   "id": "ae1518fbca4b2130",
   "metadata": {
    "collapsed": false
   },
   "source": [
    "## Step 1: Import Necessary Libraries\n",
    "First, import all the necessary libraries including those for visualization."
   ]
  },
  {
   "cell_type": "code",
   "execution_count": null,
   "id": "7ba9ffa23249ce33",
   "metadata": {
    "ExecuteTime": {
     "end_time": "2024-03-07T12:10:52.251371Z",
     "start_time": "2024-03-07T12:10:52.236869Z"
    },
    "collapsed": false
   },
   "outputs": [],
   "source": [
    "import pandas as pd\n",
    "import numpy as np\n",
    "import nltk\n",
    "from nltk.tokenize import word_tokenize, RegexpTokenizer\n",
    "from nltk.corpus import stopwords\n",
    "from nltk.stem import WordNetLemmatizer, SnowballStemmer\n",
    "from sklearn.feature_extraction.text import CountVectorizer\n",
    "from sklearn.model_selection import train_test_split\n",
    "from sklearn.linear_model import LogisticRegression\n",
    "from sklearn.metrics import classification_report, accuracy_score\n",
    "import matplotlib.pyplot as plt\n",
    "import seaborn as sns\n",
    "\n",
    "# Ensure NLTK resources are downloaded\n",
    "nltk.download('punkt')\n",
    "nltk.download('stopwords')\n",
    "nltk.download('wordnet')\n",
    "nltk.download('omw-1.4')\n"
   ]
  },
  {
   "cell_type": "markdown",
   "id": "8d226d27ad8855af",
   "metadata": {
    "collapsed": false
   },
   "source": [
    "## Step 2: Load and Visualize the Dataset\n",
    "Load the dataset and visualize the first few rows. It's also useful to check the balance of your classes."
   ]
  },
  {
   "cell_type": "code",
   "execution_count": null,
   "id": "e48edfbc1ce18fb5",
   "metadata": {
    "ExecuteTime": {
     "end_time": "2024-03-07T12:10:55.522005Z",
     "start_time": "2024-03-07T12:10:55.390193Z"
    },
    "collapsed": false
   },
   "outputs": [],
   "source": [
    "# Load the dataset\n",
    "df = pd.read_csv('../data/SportPolitics.csv')\n",
    "\n",
    "# Display the first few rows of the dataframe\n",
    "display(df.head())\n",
    "\n",
    "# Plot the distribution of topics\n",
    "sns.countplot(x='topic', data=df)\n",
    "plt.title('Distribution of Topics in original dataset')\n",
    "plt.show()\n"
   ]
  },
  {
   "cell_type": "markdown",
   "id": "3531174932ded04",
   "metadata": {
    "collapsed": false
   },
   "source": [
    "## Step 3: Preprocess the Data and Visualize Preprocessing Steps\n",
    "Implement the preprocessing function and apply it to your data. After preprocessing, visualize the effects of each step."
   ]
  },
  {
   "cell_type": "code",
   "execution_count": null,
   "id": "1954241cee712b9",
   "metadata": {
    "collapsed": false
   },
   "outputs": [],
   "source": [
    "# Preprocessing function\n",
    "def preprocess(text):\n",
    "    # Tokenize\n",
    "    tokenizer = RegexpTokenizer(r\"\\w+\")\n",
    "    tokens = tokenizer.tokenize(text.lower())\n",
    "    \n",
    "    # Remove stop words\n",
    "    stop_words = stopwords.words('english')\n",
    "    tokens_no_stop = [word for word in tokens if word not in stop_words]\n",
    "    \n",
    "    # Lemmatization\n",
    "    lemmatizer = WordNetLemmatizer()\n",
    "    tokens_lemmatized = [lemmatizer.lemmatize(word) for word in tokens_no_stop]\n",
    "    \n",
    "    # Stemming\n",
    "    stemmer = SnowballStemmer('english')\n",
    "    tokens_stemmed = [stemmer.stem(word) for word in tokens_lemmatized]\n",
    "    \n",
    "    return ' '.join(tokens_stemmed)\n",
    "\n",
    "# preprocess tweets\n",
    "df['tweet_processed'] = df['tweet'].apply(preprocess)\n",
    "\n",
    "# Visualize the preprocessing steps for a single tweet example\n",
    "example_tweet = df['tweet'].iloc[60]\n",
    "print(\"Original Tweet:\\n\", example_tweet)\n",
    "print(\"\\nProcessed Tweet:\\n\", preprocess(example_tweet))\n"
   ]
  },
  {
   "cell_type": "markdown",
   "id": "080d4567",
   "metadata": {},
   "source": [
    "## Step 4: Explore the Vectorization Process\n",
    "Before training, explore how the vectorization process transforms your textual data into numeric features."
   ]
  },
  {
   "cell_type": "code",
   "execution_count": null,
   "id": "837001db",
   "metadata": {},
   "outputs": [],
   "source": [
    "# Vectorization\n",
    "vectorizer = CountVectorizer()\n",
    "X_train, X_val, y_train, y_val = train_test_split(df['tweet_processed'], df['topic'], test_size=0.2, random_state=42)\n",
    "X_train_bow = vectorizer.fit_transform(X_train)\n",
    "\n",
    "# Display the feature names and the shape of the resulting matrix\n",
    "print(\"Feature names (sample):\", vectorizer.get_feature_names_out()[0:10])\n",
    "print(\"Shape of Bag of Words matrix:\", X_train_bow.shape)\n",
    "\n",
    "# Display the Bag of Words matrix for the first few tweets\n",
    "pd.DataFrame(X_train_bow.toarray(), columns=vectorizer.get_feature_names_out()).head()\n"
   ]
  },
  {
   "cell_type": "markdown",
   "id": "64e90fd4",
   "metadata": {},
   "source": [
    "## Step 5: Train the Model and Evaluate Performance\n",
    "Train the logistic regression model and evaluate its performance using classification report and accuracy score."
   ]
  },
  {
   "cell_type": "code",
   "execution_count": null,
   "id": "e4db7e76",
   "metadata": {},
   "outputs": [],
   "source": [
    "# Train a Logistic Regression model\n",
    "model = LogisticRegression(random_state=42, max_iter=1000)\n",
    "model.fit(X_train_bow, y_train)\n",
    "\n",
    "# Predict on the validation set\n",
    "y_pred = model.predict(vectorizer.transform(X_val))\n",
    "\n",
    "# Evaluate the model\n",
    "print(\"Classification Report:\")\n",
    "print(classification_report(y_val, y_pred))\n",
    "print(\"Accuracy Score:\", accuracy_score(y_val, y_pred))\n"
   ]
  },
  {
   "cell_type": "markdown",
   "id": "b4c7132a",
   "metadata": {},
   "source": [
    "## Step 6: Additional Visualization\n",
    "For further insight, you might want to visualize the coefficients or importance of different words/features in determining the class according to your logistic regression model."
   ]
  },
  {
   "cell_type": "code",
   "execution_count": null,
   "id": "78d2b2a0",
   "metadata": {},
   "outputs": [],
   "source": [
    "# Visualize the top coefficients\n",
    "coef = model.coef_[0]\n",
    "words = vectorizer.get_feature_names_out()\n",
    "coef_df = pd.DataFrame({'Word': words, 'Coefficient': coef})\n",
    "top_coef = coef_df.sort_values(by='Coefficient', ascending=False).head(10)\n",
    "\n",
    "plt.figure(figsize=(10, 6))\n",
    "sns.barplot(x='Coefficient', y='Word', data=top_coef)\n",
    "plt.title('Top Features and their Coefficients')\n",
    "plt.show()\n"
   ]
  }
 ],
 "metadata": {
  "kernelspec": {
   "display_name": "Python 3",
   "language": "python",
   "name": "python3"
  },
  "language_info": {
   "codemirror_mode": {
    "name": "ipython",
    "version": 3
   },
   "file_extension": ".py",
   "mimetype": "text/x-python",
   "name": "python",
   "nbconvert_exporter": "python",
   "pygments_lexer": "ipython3",
   "version": "3.10.12"
  }
 },
 "nbformat": 4,
 "nbformat_minor": 5
}
