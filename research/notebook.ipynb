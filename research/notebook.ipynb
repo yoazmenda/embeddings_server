{
 "cells": [
  {
   "cell_type": "markdown",
   "id": "b8b45c85-1d80-4ce7-b974-d1d484d25b6c",
   "metadata": {},
   "source": [
    "# Classify Tweets using Bag-of-Words\n",
    "Author: Yoaz Menda"
   ]
  },
  {
   "cell_type": "markdown",
   "id": "ae1518fbca4b2130",
   "metadata": {
    "collapsed": false,
    "jupyter": {
     "outputs_hidden": false
    }
   },
   "source": [
    "## Step 1: Import Necessary Libraries\n",
    "First, import all the necessary libraries including those for visualization."
   ]
  },
  {
   "cell_type": "code",
   "execution_count": 1,
   "id": "7ba9ffa23249ce33",
   "metadata": {
    "ExecuteTime": {
     "end_time": "2024-03-07T12:10:52.251371Z",
     "start_time": "2024-03-07T12:10:52.236869Z"
    },
    "collapsed": false,
    "jupyter": {
     "outputs_hidden": false
    }
   },
   "outputs": [
    {
     "name": "stderr",
     "output_type": "stream",
     "text": [
      "[nltk_data] Downloading package punkt to /home/user/nltk_data...\n",
      "[nltk_data]   Unzipping tokenizers/punkt.zip.\n",
      "[nltk_data] Downloading package stopwords to /home/user/nltk_data...\n",
      "[nltk_data]   Unzipping corpora/stopwords.zip.\n",
      "[nltk_data] Downloading package wordnet to /home/user/nltk_data...\n",
      "[nltk_data] Downloading package omw-1.4 to /home/user/nltk_data...\n"
     ]
    },
    {
     "data": {
      "text/plain": [
       "True"
      ]
     },
     "execution_count": 1,
     "metadata": {},
     "output_type": "execute_result"
    }
   ],
   "source": [
    "import pandas as pd\n",
    "import numpy as np\n",
    "import nltk\n",
    "from nltk.tokenize import word_tokenize, RegexpTokenizer\n",
    "from nltk.corpus import stopwords\n",
    "from nltk.stem import WordNetLemmatizer, SnowballStemmer\n",
    "from sklearn.feature_extraction.text import CountVectorizer\n",
    "from sklearn.model_selection import train_test_split\n",
    "from sklearn.linear_model import LogisticRegression\n",
    "from sklearn.metrics import classification_report, accuracy_score\n",
    "import matplotlib.pyplot as plt\n",
    "import seaborn as sns\n",
    "\n",
    "# Ensure NLTK resources are downloaded\n",
    "nltk.download('punkt')\n",
    "nltk.download('stopwords')\n",
    "nltk.download('wordnet')\n",
    "nltk.download('omw-1.4')\n"
   ]
  },
  {
   "cell_type": "markdown",
   "id": "8d226d27ad8855af",
   "metadata": {
    "collapsed": false,
    "jupyter": {
     "outputs_hidden": false
    }
   },
   "source": [
    "## Step 2: Load and Visualize the Dataset\n",
    "Load the dataset and visualize the first few rows."
   ]
  },
  {
   "cell_type": "code",
   "execution_count": 2,
   "id": "e48edfbc1ce18fb5",
   "metadata": {
    "ExecuteTime": {
     "end_time": "2024-03-07T12:10:55.522005Z",
     "start_time": "2024-03-07T12:10:55.390193Z"
    },
    "collapsed": false,
    "jupyter": {
     "outputs_hidden": false
    }
   },
   "outputs": [
    {
     "data": {
      "text/html": [
       "<div>\n",
       "<style scoped>\n",
       "    .dataframe tbody tr th:only-of-type {\n",
       "        vertical-align: middle;\n",
       "    }\n",
       "\n",
       "    .dataframe tbody tr th {\n",
       "        vertical-align: top;\n",
       "    }\n",
       "\n",
       "    .dataframe thead th {\n",
       "        text-align: right;\n",
       "    }\n",
       "</style>\n",
       "<table border=\"1\" class=\"dataframe\">\n",
       "  <thead>\n",
       "    <tr style=\"text-align: right;\">\n",
       "      <th></th>\n",
       "      <th>id</th>\n",
       "      <th>topic</th>\n",
       "      <th>tweet</th>\n",
       "    </tr>\n",
       "  </thead>\n",
       "  <tbody>\n",
       "    <tr>\n",
       "      <th>0</th>\n",
       "      <td>3.070000e+17</td>\n",
       "      <td>Sports</td>\n",
       "      <td>99 days to go until the start of #ct13. Did yo...</td>\n",
       "    </tr>\n",
       "    <tr>\n",
       "      <th>1</th>\n",
       "      <td>3.060000e+17</td>\n",
       "      <td>Sports</td>\n",
       "      <td>\"Tonight's Scottish First Division match betwe...</td>\n",
       "    </tr>\n",
       "    <tr>\n",
       "      <th>2</th>\n",
       "      <td>2.920000e+17</td>\n",
       "      <td>Sports</td>\n",
       "      <td>10 off the over, 10 required! Captain Faulkner...</td>\n",
       "    </tr>\n",
       "    <tr>\n",
       "      <th>3</th>\n",
       "      <td>3.040000e+17</td>\n",
       "      <td>Politics</td>\n",
       "      <td>.@GSANetwork raises awareness &amp;amp; stands up ...</td>\n",
       "    </tr>\n",
       "    <tr>\n",
       "      <th>4</th>\n",
       "      <td>3.050000e+17</td>\n",
       "      <td>Sports</td>\n",
       "      <td>\"Another wonderful start from England's new-ba...</td>\n",
       "    </tr>\n",
       "  </tbody>\n",
       "</table>\n",
       "</div>"
      ],
      "text/plain": [
       "             id     topic                                              tweet\n",
       "0  3.070000e+17    Sports  99 days to go until the start of #ct13. Did yo...\n",
       "1  3.060000e+17    Sports  \"Tonight's Scottish First Division match betwe...\n",
       "2  2.920000e+17    Sports  10 off the over, 10 required! Captain Faulkner...\n",
       "3  3.040000e+17  Politics  .@GSANetwork raises awareness &amp; stands up ...\n",
       "4  3.050000e+17    Sports  \"Another wonderful start from England's new-ba..."
      ]
     },
     "metadata": {},
     "output_type": "display_data"
    },
    {
     "data": {
      "image/png": "[encoded data removed]",
      "text/plain": [
       "<Figure size 640x480 with 1 Axes>"
      ]
     },
     "metadata": {},
     "output_type": "display_data"
    }
   ],
   "source": [
    "# Load the dataset\n",
    "df = pd.read_csv('../data/SportPolitics.csv')\n",
    "\n",
    "# Display the first few rows of the dataframe\n",
    "display(df.head())\n",
    "\n",
    "# Plot the distribution of topics\n",
    "sns.countplot(x='topic', data=df)\n",
    "plt.title('Distribution of Topics in original dataset')\n",
    "plt.show()\n"
   ]
  },
  {
   "cell_type": "markdown",
   "id": "3531174932ded04",
   "metadata": {
    "collapsed": false,
    "jupyter": {
     "outputs_hidden": false
    }
   },
   "source": [
    "## Step 3: Preprocess the Data and Visualize Preprocessing Steps\n",
    "Implement the preprocessing and visualize the effects of each step."
   ]
  },
  {
   "cell_type": "code",
   "execution_count": 3,
   "id": "1954241cee712b9",
   "metadata": {
    "collapsed": false,
    "jupyter": {
     "outputs_hidden": false
    }
   },
   "outputs": [
    {
     "name": "stdout",
     "output_type": "stream",
     "text": [
      "Original Tweet:\n",
      " RT @ArashMarkazi: Blake Griffin is turning the game into his own personal dunk contest.'\n",
      "\n",
      "Processed Tweet:\n",
      " rt arashmarkazi blake griffin turn game person dunk contest\n"
     ]
    }
   ],
   "source": [
    "# Preprocessing function\n",
    "def preprocess(text):\n",
    "    # Tokenize\n",
    "    tokenizer = RegexpTokenizer(r\"\\w+\")\n",
    "    tokens = tokenizer.tokenize(text.lower())\n",
    "    \n",
    "    # Remove stop words\n",
    "    stop_words = stopwords.words('english')\n",
    "    tokens_no_stop = [word for word in tokens if word not in stop_words]\n",
    "    \n",
    "    # Lemmatization\n",
    "    lemmatizer = WordNetLemmatizer()\n",
    "    tokens_lemmatized = [lemmatizer.lemmatize(word) for word in tokens_no_stop]\n",
    "    \n",
    "    # Stemming\n",
    "    stemmer = SnowballStemmer('english')\n",
    "    tokens_stemmed = [stemmer.stem(word) for word in tokens_lemmatized]\n",
    "    \n",
    "    return ' '.join(tokens_stemmed)\n",
    "\n",
    "# preprocess tweets\n",
    "df['tweet_processed'] = df['tweet'].apply(preprocess)\n",
    "\n",
    "# Visualize the preprocessing steps for a single tweet example\n",
    "example_tweet = df['tweet'].iloc[60]\n",
    "print(\"Original Tweet:\\n\", example_tweet)\n",
    "print(\"\\nProcessed Tweet:\\n\", preprocess(example_tweet))\n"
   ]
  },
  {
   "cell_type": "markdown",
   "id": "080d4567",
   "metadata": {},
   "source": [
    "## Step 4: Explore the Vectorization Process\n",
    "Before training, explore how the vectorization process transforms our textual data into numeric features."
   ]
  },
  {
   "cell_type": "code",
   "execution_count": 4,
   "id": "837001db",
   "metadata": {},
   "outputs": [
    {
     "name": "stdout",
     "output_type": "stream",
     "text": [
      "Feature names (sample): ['000' '000m' '000th' '01' '02' '02ho2znp' '02min' '02su' '02tazoct' '03']\n",
      "Shape of Bag of Words matrix: (5168, 11744)\n"
     ]
    },
    {
     "data": {
      "text/html": [
       "<div>\n",
       "<style scoped>\n",
       "    .dataframe tbody tr th:only-of-type {\n",
       "        vertical-align: middle;\n",
       "    }\n",
       "\n",
       "    .dataframe tbody tr th {\n",
       "        vertical-align: top;\n",
       "    }\n",
       "\n",
       "    .dataframe thead th {\n",
       "        text-align: right;\n",
       "    }\n",
       "</style>\n",
       "<table border=\"1\" class=\"dataframe\">\n",
       "  <thead>\n",
       "    <tr style=\"text-align: right;\">\n",
       "      <th></th>\n",
       "      <th>000</th>\n",
       "      <th>000m</th>\n",
       "      <th>000th</th>\n",
       "      <th>01</th>\n",
       "      <th>02</th>\n",
       "      <th>02ho2znp</th>\n",
       "      <th>02min</th>\n",
       "      <th>02su</th>\n",
       "      <th>02tazoct</th>\n",
       "      <th>03</th>\n",
       "      <th>...</th>\n",
       "      <th>zvaiftn6</th>\n",
       "      <th>zvezdni</th>\n",
       "      <th>zvkwvj8w</th>\n",
       "      <th>zxacoesx</th>\n",
       "      <th>zxb4ujtrsi</th>\n",
       "      <th>zxsauogqkj</th>\n",
       "      <th>zy9wsxyg8d</th>\n",
       "      <th>zzk4o7jqix</th>\n",
       "      <th>zzpmbi1o</th>\n",
       "      <th>zzzzzzzzzzzzzzzzzz</th>\n",
       "    </tr>\n",
       "  </thead>\n",
       "  <tbody>\n",
       "    <tr>\n",
       "      <th>0</th>\n",
       "      <td>0</td>\n",
       "      <td>0</td>\n",
       "      <td>0</td>\n",
       "      <td>0</td>\n",
       "      <td>0</td>\n",
       "      <td>0</td>\n",
       "      <td>0</td>\n",
       "      <td>0</td>\n",
       "      <td>0</td>\n",
       "      <td>0</td>\n",
       "      <td>...</td>\n",
       "      <td>0</td>\n",
       "      <td>0</td>\n",
       "      <td>0</td>\n",
       "      <td>0</td>\n",
       "      <td>0</td>\n",
       "      <td>0</td>\n",
       "      <td>0</td>\n",
       "      <td>0</td>\n",
       "      <td>0</td>\n",
       "      <td>0</td>\n",
       "    </tr>\n",
       "    <tr>\n",
       "      <th>1</th>\n",
       "      <td>0</td>\n",
       "      <td>0</td>\n",
       "      <td>0</td>\n",
       "      <td>0</td>\n",
       "      <td>0</td>\n",
       "      <td>0</td>\n",
       "      <td>0</td>\n",
       "      <td>0</td>\n",
       "      <td>0</td>\n",
       "      <td>0</td>\n",
       "      <td>...</td>\n",
       "      <td>0</td>\n",
       "      <td>0</td>\n",
       "      <td>0</td>\n",
       "      <td>0</td>\n",
       "      <td>0</td>\n",
       "      <td>0</td>\n",
       "      <td>0</td>\n",
       "      <td>0</td>\n",
       "      <td>0</td>\n",
       "      <td>0</td>\n",
       "    </tr>\n",
       "    <tr>\n",
       "      <th>2</th>\n",
       "      <td>0</td>\n",
       "      <td>0</td>\n",
       "      <td>0</td>\n",
       "      <td>0</td>\n",
       "      <td>0</td>\n",
       "      <td>0</td>\n",
       "      <td>0</td>\n",
       "      <td>0</td>\n",
       "      <td>0</td>\n",
       "      <td>0</td>\n",
       "      <td>...</td>\n",
       "      <td>0</td>\n",
       "      <td>0</td>\n",
       "      <td>0</td>\n",
       "      <td>0</td>\n",
       "      <td>0</td>\n",
       "      <td>0</td>\n",
       "      <td>0</td>\n",
       "      <td>0</td>\n",
       "      <td>0</td>\n",
       "      <td>0</td>\n",
       "    </tr>\n",
       "    <tr>\n",
       "      <th>3</th>\n",
       "      <td>0</td>\n",
       "      <td>0</td>\n",
       "      <td>0</td>\n",
       "      <td>0</td>\n",
       "      <td>0</td>\n",
       "      <td>0</td>\n",
       "      <td>0</td>\n",
       "      <td>0</td>\n",
       "      <td>0</td>\n",
       "      <td>0</td>\n",
       "      <td>...</td>\n",
       "      <td>0</td>\n",
       "      <td>0</td>\n",
       "      <td>0</td>\n",
       "      <td>0</td>\n",
       "      <td>0</td>\n",
       "      <td>0</td>\n",
       "      <td>0</td>\n",
       "      <td>0</td>\n",
       "      <td>0</td>\n",
       "      <td>0</td>\n",
       "    </tr>\n",
       "    <tr>\n",
       "      <th>4</th>\n",
       "      <td>0</td>\n",
       "      <td>0</td>\n",
       "      <td>0</td>\n",
       "      <td>0</td>\n",
       "      <td>0</td>\n",
       "      <td>0</td>\n",
       "      <td>0</td>\n",
       "      <td>0</td>\n",
       "      <td>0</td>\n",
       "      <td>0</td>\n",
       "      <td>...</td>\n",
       "      <td>0</td>\n",
       "      <td>0</td>\n",
       "      <td>0</td>\n",
       "      <td>0</td>\n",
       "      <td>0</td>\n",
       "      <td>0</td>\n",
       "      <td>0</td>\n",
       "      <td>0</td>\n",
       "      <td>0</td>\n",
       "      <td>0</td>\n",
       "    </tr>\n",
       "  </tbody>\n",
       "</table>\n",
       "<p>5 rows × 11744 columns</p>\n",
       "</div>"
      ],
      "text/plain": [
       "   000  000m  000th  01  02  02ho2znp  02min  02su  02tazoct  03  ...  \\\n",
       "0    0     0      0   0   0         0      0     0         0   0  ...   \n",
       "1    0     0      0   0   0         0      0     0         0   0  ...   \n",
       "2    0     0      0   0   0         0      0     0         0   0  ...   \n",
       "3    0     0      0   0   0         0      0     0         0   0  ...   \n",
       "4    0     0      0   0   0         0      0     0         0   0  ...   \n",
       "\n",
       "   zvaiftn6  zvezdni  zvkwvj8w  zxacoesx  zxb4ujtrsi  zxsauogqkj  zy9wsxyg8d  \\\n",
       "0         0        0         0         0           0           0           0   \n",
       "1         0        0         0         0           0           0           0   \n",
       "2         0        0         0         0           0           0           0   \n",
       "3         0        0         0         0           0           0           0   \n",
       "4         0        0         0         0           0           0           0   \n",
       "\n",
       "   zzk4o7jqix  zzpmbi1o  zzzzzzzzzzzzzzzzzz  \n",
       "0           0         0                   0  \n",
       "1           0         0                   0  \n",
       "2           0         0                   0  \n",
       "3           0         0                   0  \n",
       "4           0         0                   0  \n",
       "\n",
       "[5 rows x 11744 columns]"
      ]
     },
     "execution_count": 4,
     "metadata": {},
     "output_type": "execute_result"
    }
   ],
   "source": [
    "# Vectorization\n",
    "vectorizer = CountVectorizer()\n",
    "X_train, X_val, y_train, y_val = train_test_split(df['tweet_processed'], df['topic'], test_size=0.2, random_state=42)\n",
    "X_train_bow = vectorizer.fit_transform(X_train)\n",
    "\n",
    "# Display the feature names and the shape of the resulting matrix\n",
    "print(\"Feature names (sample):\", vectorizer.get_feature_names_out()[0:10])\n",
    "print(\"Shape of Bag of Words matrix:\", X_train_bow.shape)\n",
    "\n",
    "# Display the Bag of Words matrix for the first few tweets\n",
    "pd.DataFrame(X_train_bow.toarray(), columns=vectorizer.get_feature_names_out()).head()\n"
   ]
  },
  {
   "cell_type": "markdown",
   "id": "64e90fd4",
   "metadata": {},
   "source": [
    "## Step 5: Train the Model and Evaluate Performance\n",
    "Train the logistic regression model and evaluate its performance using classification report and accuracy score."
   ]
  },
  {
   "cell_type": "code",
   "execution_count": 5,
   "id": "e4db7e76",
   "metadata": {},
   "outputs": [
    {
     "name": "stdout",
     "output_type": "stream",
     "text": [
      "Classification Report:\n",
      "              precision    recall  f1-score   support\n",
      "\n",
      "    Politics       0.97      0.94      0.95       639\n",
      "      Sports       0.94      0.97      0.96       653\n",
      "\n",
      "    accuracy                           0.95      1292\n",
      "   macro avg       0.95      0.95      0.95      1292\n",
      "weighted avg       0.95      0.95      0.95      1292\n",
      "\n",
      "Accuracy Score: 0.9543343653250774\n"
     ]
    }
   ],
   "source": [
    "# Train a Logistic Regression model\n",
    "model = LogisticRegression(random_state=42, max_iter=1000)\n",
    "model.fit(X_train_bow, y_train)\n",
    "\n",
    "# Predict on the validation set\n",
    "y_pred = model.predict(vectorizer.transform(X_val))\n",
    "\n",
    "# Evaluate the model\n",
    "print(\"Classification Report:\")\n",
    "print(classification_report(y_val, y_pred))\n",
    "print(\"Accuracy Score:\", accuracy_score(y_val, y_pred))\n"
   ]
  }
 ],
 "metadata": {
  "kernelspec": {
   "display_name": "Python 3 (ipykernel)",
   "language": "python",
   "name": "python3"
  },
  "language_info": {
   "codemirror_mode": {
    "name": "ipython",
    "version": 3
   },
   "file_extension": ".py",
   "mimetype": "text/x-python",
   "name": "python",
   "nbconvert_exporter": "python",
   "pygments_lexer": "ipython3",
   "version": "3.10.12"
  }
 },
 "nbformat": 4,
 "nbformat_minor": 5
}
